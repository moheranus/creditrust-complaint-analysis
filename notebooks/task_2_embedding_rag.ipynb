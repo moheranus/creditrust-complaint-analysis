{
 "cells": [
  {
   "cell_type": "code",
   "execution_count": null,
   "id": "3e772110",
   "metadata": {
    "vscode": {
     "languageId": "plaintext"
    }
   },
   "outputs": [
    {
     "name": "stderr",
     "output_type": "stream",
     "text": [
      "C:\\Users\\daniel.shobe\\AppData\\Roaming\\Python\\Python313\\site-packages\\sentence_transformers\\cross_encoder\\CrossEncoder.py:13: TqdmExperimentalWarning: Using `tqdm.autonotebook.tqdm` in notebook mode. Use `tqdm.tqdm` instead to force console mode (e.g. in jupyter console)\n",
      "  from tqdm.autonotebook import tqdm, trange\n"
     ]
    },
    {
     "name": "stdout",
     "output_type": "stream",
     "text": [
      "Working directory set to: C:\\Users\\daniel.shobe\\Desktop\\schoolify\\B5W6\\creditrust-complaint-analysis\n",
      "Loaded dataset: (211097, 20)\n",
      "Created 561133 chunks\n"
     ]
    },
    {
     "data": {
      "application/vnd.jupyter.widget-view+json": {
       "model_id": "84c1c0a0cd0540a2a83f2e16c711c34d",
       "version_major": 2,
       "version_minor": 0
      },
      "text/plain": [
       "Batches:   0%|          | 0/17536 [00:00<?, ?it/s]"
      ]
     },
     "metadata": {},
     "output_type": "display_data"
    }
   ],
   "source": [
    "import pandas as pd\n",
    "from langchain.text_splitter import RecursiveCharacterTextSplitter\n",
    "from sentence_transformers import SentenceTransformer\n",
    "import faiss\n",
    "import numpy as np\n",
    "from pathlib import Path\n",
    "import os\n",
    "\n",
    "# Set working directory\n",
    "os.chdir('C:/Users/daniel.shobe/Desktop/schoolify/B5W6/creditrust-complaint-analysis')\n",
    "print(f\"Working directory set to: {os.getcwd()}\")\n",
    "\n",
    "# Set up directories\n",
    "DATA_DIR = Path('data')\n",
    "VECTOR_STORE_DIR = Path('vector_store')\n",
    "VECTOR_STORE_DIR.mkdir(exist_ok=True)\n",
    "\n",
    "# Load cleaned dataset\n",
    "filtered_df = pd.read_csv(DATA_DIR / 'filtered_complaints.csv')\n",
    "print(f\"Loaded dataset: {filtered_df.shape}\")\n",
    "\n",
    "# Step 1: Chunk narratives\n",
    "text_splitter = RecursiveCharacterTextSplitter(\n",
    "    chunk_size=512,\n",
    "    chunk_overlap=50,\n",
    "    length_function=len\n",
    "    )\n",
    "chunks = []\n",
    "for idx, row in filtered_df.iterrows():\n",
    "    split_texts = text_splitter.split_text(row['cleaned_narrative'])\n",
    "    for chunk in split_texts:\n",
    "        chunks.append({\n",
    "            'Complaint ID': row['Complaint ID'],\n",
    "            'Product': row['Product'],\n",
    "            'chunk': chunk\n",
    "        })\n",
    "chunked_df = pd.DataFrame(chunks)\n",
    "chunked_df.to_csv(DATA_DIR / 'chunked_complaints.csv', index=False)\n",
    "print(f\"Created {len(chunked_df)} chunks\")\n",
    "\n",
    "# Step 2: Generate embeddings\n",
    "model = SentenceTransformer('all-MiniLM-L6-v2')\n",
    "embeddings = model.encode(chunked_df['chunk'].tolist(), show_progress_bar=True)\n",
    "print(f\"Generated embeddings: {embeddings.shape}\")\n",
    "\n",
    "# Step 3: Create FAISS index\n",
    "dimension = embeddings.shape[1]\n",
    "index = faiss.IndexFlatL2(dimension)\n",
    "index.add(embeddings)\n",
    "faiss.write_index(index, str(VECTOR_STORE_DIR / 'complaint_index.faiss'))\n",
    "print(f\"Created FAISS index with {index.ntotal} vectors\")\n",
    "\n",
    "# Step 4: Save metadata\n",
    "chunked_df.to_csv(VECTOR_STORE_DIR / 'chunk_metadata.csv', index=False)\n",
    "print(f\"Saved metadata to {VECTOR_STORE_DIR / 'chunk_metadata.csv'}\")"
   ]
  },
  {
   "cell_type": "code",
   "execution_count": null,
   "id": "5477eb68-2c81-4155-8866-fd76de42e399",
   "metadata": {},
   "outputs": [],
   "source": []
  }
 ],
 "metadata": {
  "kernelspec": {
   "display_name": "Python 3 (ipykernel)",
   "language": "python",
   "name": "python3"
  },
  "language_info": {
   "codemirror_mode": {
    "name": "ipython",
    "version": 3
   },
   "file_extension": ".py",
   "mimetype": "text/x-python",
   "name": "python",
   "nbconvert_exporter": "python",
   "pygments_lexer": "ipython3",
   "version": "3.13.4"
  }
 },
 "nbformat": 4,
 "nbformat_minor": 5
}
